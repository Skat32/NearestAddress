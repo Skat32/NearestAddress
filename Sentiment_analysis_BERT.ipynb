{
  "cells": [
    {
      "cell_type": "markdown",
      "metadata": {
        "id": "view-in-github",
        "colab_type": "text"
      },
      "source": [
        "<a href=\"https://colab.research.google.com/github/Skat32/NearestAddress/blob/master/Sentiment_analysis_BERT.ipynb\" target=\"_parent\"><img src=\"https://colab.research.google.com/assets/colab-badge.svg\" alt=\"Open In Colab\"/></a>"
      ]
    },
    {
      "cell_type": "markdown",
      "source": [
        "#Импорты "
      ],
      "metadata": {
        "id": "-DlJGLKTedPH"
      }
    },
    {
      "cell_type": "code",
      "execution_count": null,
      "metadata": {
        "id": "lzI7HCWA_1AR",
        "colab": {
          "base_uri": "https://localhost:8080/"
        },
        "outputId": "9f9f4214-9c8c-49d3-e5af-1db07095b11b"
      },
      "outputs": [
        {
          "output_type": "stream",
          "name": "stdout",
          "text": [
            "Drive already mounted at /content/drive; to attempt to forcibly remount, call drive.mount(\"/content/drive\", force_remount=True).\n",
            "Looking in indexes: https://pypi.org/simple, https://us-python.pkg.dev/colab-wheels/public/simple/\n",
            "Requirement already satisfied: transformers in /usr/local/lib/python3.10/dist-packages (4.29.2)\n",
            "Requirement already satisfied: filelock in /usr/local/lib/python3.10/dist-packages (from transformers) (3.12.0)\n",
            "Requirement already satisfied: huggingface-hub<1.0,>=0.14.1 in /usr/local/lib/python3.10/dist-packages (from transformers) (0.15.1)\n",
            "Requirement already satisfied: numpy>=1.17 in /usr/local/lib/python3.10/dist-packages (from transformers) (1.22.4)\n",
            "Requirement already satisfied: packaging>=20.0 in /usr/local/lib/python3.10/dist-packages (from transformers) (23.1)\n",
            "Requirement already satisfied: pyyaml>=5.1 in /usr/local/lib/python3.10/dist-packages (from transformers) (6.0)\n",
            "Requirement already satisfied: regex!=2019.12.17 in /usr/local/lib/python3.10/dist-packages (from transformers) (2022.10.31)\n",
            "Requirement already satisfied: requests in /usr/local/lib/python3.10/dist-packages (from transformers) (2.27.1)\n",
            "Requirement already satisfied: tokenizers!=0.11.3,<0.14,>=0.11.1 in /usr/local/lib/python3.10/dist-packages (from transformers) (0.13.3)\n",
            "Requirement already satisfied: tqdm>=4.27 in /usr/local/lib/python3.10/dist-packages (from transformers) (4.65.0)\n",
            "Requirement already satisfied: fsspec in /usr/local/lib/python3.10/dist-packages (from huggingface-hub<1.0,>=0.14.1->transformers) (2023.4.0)\n",
            "Requirement already satisfied: typing-extensions>=3.7.4.3 in /usr/local/lib/python3.10/dist-packages (from huggingface-hub<1.0,>=0.14.1->transformers) (4.5.0)\n",
            "Requirement already satisfied: urllib3<1.27,>=1.21.1 in /usr/local/lib/python3.10/dist-packages (from requests->transformers) (1.26.15)\n",
            "Requirement already satisfied: certifi>=2017.4.17 in /usr/local/lib/python3.10/dist-packages (from requests->transformers) (2022.12.7)\n",
            "Requirement already satisfied: charset-normalizer~=2.0.0 in /usr/local/lib/python3.10/dist-packages (from requests->transformers) (2.0.12)\n",
            "Requirement already satisfied: idna<4,>=2.5 in /usr/local/lib/python3.10/dist-packages (from requests->transformers) (3.4)\n"
          ]
        }
      ],
      "source": [
        " import torch\n",
        "from torch import nn\n",
        "import torchtext\n",
        "import numpy as np\n",
        "import random, time, json\n",
        "from tqdm import tqdm\n",
        "import os\n",
        "import re\n",
        "import bz2\n",
        "import pandas as pd\n",
        "import seaborn as sns\n",
        "import matplotlib.pyplot as plt\n",
        "from google.colab import drive\n",
        "drive.mount('/content/drive')\n",
        "import torch\n",
        "from torch.nn.utils.rnn import pad_sequence\n",
        "from transformers import BertTokenizer, BertForSequenceClassification\n",
        "from torch.utils.data import DataLoader, TensorDataset\n",
        "from sklearn.metrics import accuracy_score, precision_score, recall_score, f1_score\n",
        "!pip install transformers\n"
      ]
    },
    {
      "cell_type": "code",
      "execution_count": null,
      "metadata": {
        "id": "2FAiqaT7DTOF"
      },
      "outputs": [],
      "source": [
        "MIN_LEN_ALLOWED = 3     # select review that has more than MIN_LEN_ALLOWED words\n",
        "MAX_LEN_ALLOWED = 60    # select review that has less than MAX_LEN_ALLOWED words\n",
        "N_TRAIN = 100000    # maximum number of training samples to select\n",
        "N_TEST = 25000        # maximum number of test samples to select"
      ]
    },
    {
      "cell_type": "code",
      "execution_count": null,
      "metadata": {
        "id": "fc6hFs4fEutK"
      },
      "outputs": [],
      "source": [
        "# since we have large dataset of 3.6 million reviews, we will filter only a few using this function\n",
        "def text_filter(text):\n",
        "    alpha = \"abcdefghijklnopqrstuvwxyz \"\n",
        "    text = \"\".join([i for i in text.lower().strip() if i in alpha])\n",
        "    text_len = len(text.split())\n",
        "    return text_len >= MIN_LEN_ALLOWED - 1 and text_len <= MAX_LEN_ALLOWED"
      ]
    },
    {
      "cell_type": "code",
      "source": [
        "TEST_PATH = '/content/drive/MyDrive/Colab Notebooks/amazon_reviews/test.ft.txt.bz2'\n",
        "\n",
        "TRAIN_PATH = '/content/drive/MyDrive/Colab Notebooks/amazon_reviews/train.ft.txt.bz2'"
      ],
      "metadata": {
        "id": "mqsrxc4vsgun"
      },
      "execution_count": null,
      "outputs": []
    },
    {
      "cell_type": "code",
      "execution_count": null,
      "metadata": {
        "id": "SWl_zHBCEwIj"
      },
      "outputs": [],
      "source": [
        "\n",
        "# thsi function reads data from the file and selects the line that passes through the filter function\n",
        "def extract_content(file_path, N=None):\n",
        "    data = []\n",
        "    with bz2.open(file_path, 'rt') as f:\n",
        "        with tqdm(total=N) as pbar:\n",
        "            while (line := f.readline()):\n",
        "                line = f.readline()\n",
        "                label = int(line[9])\n",
        "                text = line[11:]\n",
        "                if text_filter(text):\n",
        "                    data.append(\n",
        "                        [label, text]\n",
        "                    )\n",
        "                    pbar.update(1)\n",
        "                if pbar.n == N: break\n",
        "\n",
        "    return data"
      ]
    },
    {
      "cell_type": "code",
      "execution_count": null,
      "metadata": {
        "colab": {
          "base_uri": "https://localhost:8080/"
        },
        "id": "gg6t8_fDKHYO",
        "outputId": "89d1c168-7a54-498b-c103-a309559a616e"
      },
      "outputs": [
        {
          "output_type": "stream",
          "name": "stderr",
          "text": [
            "100%|██████████| 100000/100000 [01:02<00:00, 1600.73it/s]\n",
            "100%|██████████| 25000/25000 [00:08<00:00, 2861.51it/s]\n"
          ]
        }
      ],
      "source": [
        "train = extract_content(TRAIN_PATH, N=N_TRAIN)\n",
        "test = extract_content(TEST_PATH, N=N_TEST)"
      ]
    },
    {
      "cell_type": "code",
      "execution_count": null,
      "metadata": {
        "id": "3qq9eFSGKYz1"
      },
      "outputs": [],
      "source": [
        "# this function balances the dataset such that each of the 2 classes has equal number of samples in train dataset\n",
        "\n",
        "def equalize_labels(data):\n",
        "    # Count the number of tuples with label 1 and label 2\n",
        "    count_1 = sum(1 for item in data if item[0] == 1)\n",
        "    count_2 = sum(1 for item in data if item[0] == 2)\n",
        "\n",
        "\n",
        "    # Determine the minimum count between label 1 and label 2\n",
        "    min_count = min(count_1, count_2)\n",
        "\n",
        "    # Collect tuples with label 1 and label 2 up to the minimum count\n",
        "    new_data = [item for item in data if item[0] == 1][:min_count]\n",
        "    new_data += [item for item in data if item[0] == 2][:min_count]\n",
        "\n",
        "    # shuffling the data\n",
        "    random.shuffle(new_data)\n",
        "\n",
        "    return new_data"
      ]
    },
    {
      "cell_type": "code",
      "execution_count": null,
      "metadata": {
        "id": "f5PU_IQuKbY7"
      },
      "outputs": [],
      "source": [
        "train = equalize_labels(train)"
      ]
    },
    {
      "cell_type": "code",
      "execution_count": null,
      "metadata": {
        "colab": {
          "base_uri": "https://localhost:8080/"
        },
        "id": "bFE75aOUKeRZ",
        "outputId": "9d266cdd-613c-43fc-d2df-c0bf86745e8b"
      },
      "outputs": [
        {
          "output_type": "stream",
          "name": "stdout",
          "text": [
            "Total Train Samples: 90606\n",
            "Total TEST Samples: 25000\n"
          ]
        }
      ],
      "source": [
        "N_TRAIN = len(train)\n",
        "N_TEST = len(test)\n",
        "\n",
        "print(\"Total Train Samples:\", N_TRAIN)\n",
        "print(\"Total TEST Samples:\", N_TEST)"
      ]
    },
    {
      "cell_type": "markdown",
      "metadata": {
        "id": "qs2Grc1PKlpg"
      },
      "source": [
        "#Описание данных"
      ]
    },
    {
      "cell_type": "code",
      "execution_count": null,
      "metadata": {
        "id": "5p58-uNaKrEX"
      },
      "outputs": [],
      "source": [
        "def plot_length_distribution(data, name, ax):\n",
        "    data = [len(i[1].split(\" \")) for i in data]\n",
        "    sns.histplot(data, bins=MAX_LEN_ALLOWED-MIN_LEN_ALLOWED, color='skyblue', edgecolor='white', ax=ax)\n",
        "    ax.set_xlabel('Длинна предложений')\n",
        "    ax.set_ylabel('Частота')\n",
        "    ax.set_title(f'Распределение длинны в {name} данных')\n",
        "\n",
        "def plot_label_distribution(data, name, ax):\n",
        "    data = pd.Series([i[0] for i in data])\n",
        "    data = data.value_counts()\n",
        "    data.plot(kind='bar', title=f\"Распределение лейблов в {name} данных\", color=\"skyblue\", ax=ax)"
      ]
    },
    {
      "cell_type": "code",
      "execution_count": null,
      "metadata": {
        "colab": {
          "base_uri": "https://localhost:8080/"
        },
        "id": "QRifjgzCKtNV",
        "outputId": "d89a7c7c-0552-49aa-dd67-444d703690df"
      },
      "outputs": [
        {
          "output_type": "display_data",
          "data": {
            "text/plain": [
              "<Figure size 1200x1200 with 4 Axes>"
            ],
            "image/png": "[encoded data removed]"
          },
          "metadata": {}
        }
      ],
      "source": [
        "fig, axes = plt.subplots(2, 2, figsize=(12, 12))\n",
        "\n",
        "plot_length_distribution(train, name=\"Train\", ax=axes[0][0])\n",
        "plot_length_distribution(test, name=\"Test\", ax=axes[0][1])\n",
        "plot_label_distribution(train, name=\"Train\", ax=axes[1][0])\n",
        "plot_label_distribution(test, name=\"Test\", ax=axes[1][1])"
      ]
    },
    {
      "cell_type": "markdown",
      "source": [
        "# Предобработка данных\n",
        "- Отчистка \n",
        "- Токенизация \n",
        "- Составление словаря"
      ],
      "metadata": {
        "id": "oebYheuddlM3"
      }
    },
    {
      "cell_type": "code",
      "execution_count": null,
      "metadata": {
        "id": "nA-sJ3p3LFca"
      },
      "outputs": [],
      "source": [
        "def clean_text(text):\n",
        "    # Remove extra spaces\n",
        "    text = text.strip()\n",
        "    # Convert multiple spaces to single spaces\n",
        "    text = re.sub('\\s+', ' ', text)\n",
        "    # Lowercase the text\n",
        "    text = text.lower()\n",
        "    # Remove punctuation marks\n",
        "    text = re.sub('[^\\w\\s]', '', text)\n",
        "    return text"
      ]
    },
    {
      "cell_type": "code",
      "execution_count": null,
      "metadata": {
        "id": "Ucqdk6qeLGNp"
      },
      "outputs": [],
      "source": [
        "tokenizer = torchtext.data.utils.get_tokenizer('basic_english')"
      ]
    },
    {
      "cell_type": "code",
      "execution_count": null,
      "metadata": {
        "id": "xbemVemHLNDN"
      },
      "outputs": [],
      "source": [
        "VOCAB_SIZE = 8_000"
      ]
    },
    {
      "cell_type": "code",
      "execution_count": null,
      "metadata": {
        "id": "y6JcpKudLO6d"
      },
      "outputs": [],
      "source": [
        "def vocab_iter(data):\n",
        "    for row in data:\n",
        "        text = row[1]\n",
        "        yield tokenizer(clean_text(text))"
      ]
    },
    {
      "cell_type": "code",
      "execution_count": null,
      "metadata": {
        "colab": {
          "base_uri": "https://localhost:8080/"
        },
        "id": "azVx2SReLWNl",
        "outputId": "01c3896c-b635-43df-c848-a667e7257730"
      },
      "outputs": [
        {
          "output_type": "stream",
          "name": "stdout",
          "text": [
            "['works', 'fine', 'but', 'maha', 'energy', 'is', 'better', 'check', 'out', 'maha', 'energys', 'website', 'their', 'powerex', 'mhc204f', 'charger', 'works', 'in', '100', 'minutes', 'for', 'rapid', 'charge', 'with', 'option', 'for', 'slower', 'charge', 'better', 'for', 'batteries', 'and', 'they', 'have', '2200', 'mah', 'batteries']\n"
          ]
        }
      ],
      "source": [
        "print(next(vocab_iter(test)))"
      ]
    },
    {
      "cell_type": "code",
      "execution_count": null,
      "metadata": {
        "id": "574cVI38LY95"
      },
      "outputs": [],
      "source": [
        "vocab = torchtext.vocab.build_vocab_from_iterator(\n",
        "    vocab_iter(train),\n",
        "    specials=[\"<OOV>\"],\n",
        "    max_tokens = VOCAB_SIZE,\n",
        ")\n",
        "vocab.set_default_index(vocab[\"<OOV>\"])"
      ]
    },
    {
      "cell_type": "code",
      "execution_count": null,
      "metadata": {
        "id": "kzy_9Vp3Lgt_"
      },
      "outputs": [],
      "source": [
        "def TEXT_PIPELINE(text):\n",
        "    return vocab(tokenizer(clean_text(text)))\n",
        "\n",
        "def LABEL_PIPELINE(label):\n",
        "    return label - 1\n",
        "\n",
        "def PIPELINE(sample):\n",
        "    return (LABEL_PIPELINE(sample[0]), TEXT_PIPELINE(sample[1]))       "
      ]
    },
    {
      "cell_type": "code",
      "execution_count": null,
      "metadata": {
        "colab": {
          "base_uri": "https://localhost:8080/"
        },
        "id": "Pf2kRjZjLq1v",
        "outputId": "abacf0fc-145d-4046-a611-aa674fb1b094"
      },
      "outputs": [
        {
          "output_type": "stream",
          "name": "stderr",
          "text": [
            "100%|██████████| 90606/90606 [00:15<00:00, 5813.81it/s]\n",
            "100%|██████████| 25000/25000 [00:03<00:00, 6787.33it/s]\n"
          ]
        }
      ],
      "source": [
        "new_train = []\n",
        "for item in tqdm(train):\n",
        "    new_train.append(PIPELINE(item))\n",
        "#train = new_train\n",
        "\n",
        "new_test = []\n",
        "for item in tqdm(test):\n",
        "    new_test.append(PIPELINE(item))\n",
        "#test = new_test"
      ]
    },
    {
      "cell_type": "code",
      "execution_count": null,
      "metadata": {
        "id": "bwi3CwDAL1qq"
      },
      "outputs": [],
      "source": [
        "# this function is called when a batch is generated in from DataLoader\n",
        "def collate_batch(batch):\n",
        "    time_i = time.time()\n",
        "    label_list, text_list = [], []\n",
        "    for (_label, _text) in batch:\n",
        "        label_list.append(_label)\n",
        "        text_list.append(torch.tensor(_text))\n",
        "            \n",
        "    label_list = torch.tensor(label_list, dtype=torch.float32).to(DEVICE)\n",
        "    sequences =  torch.nn.utils.rnn.pad_sequence(\n",
        "        text_list,\n",
        "        batch_first = True,\n",
        "        padding_value = PADDING_IDX\n",
        "    ).to(DEVICE)\n",
        "\n",
        "    return sequences, label_list\n",
        "\n",
        "# this function decides how to split the dataset into batches, here sentences of similar lengths are kept in a batch together\n",
        "class SortedSampler(torch.utils.data.Sampler):\n",
        "    def __init__(self, data_source, batch_size, shuffle_times):\n",
        "        self.batch_size = batch_size\n",
        "        self.shuffle_times = shuffle_times\n",
        "\n",
        "        # getting sorted index\n",
        "        self.idx = [i[0] for i in sorted(enumerate(data_source), key=lambda x: len(x[1]))]\n",
        "\n",
        "    def shuffle_idx(self):\n",
        "        # starting points for each batch\n",
        "        offsets = list(range(0, len(self.idx), self.batch_size))[:-1]\n",
        "        # shuffling inter-batch\n",
        "        for i in range(self.shuffle_times):\n",
        "            i1, i2 = random.choices(offsets, k=2)\n",
        "            self.idx[i1:i1+self.batch_size], self.idx[i2:i2+self.batch_size] = self.idx[i2:i2+self.batch_size], self.idx[i1:i1+self.batch_size]\n",
        "\n",
        "    def __iter__(self):\n",
        "        return iter(self.idx)\n",
        "\n",
        "    def __len__(self):\n",
        "        return len(self.idx)"
      ]
    },
    {
      "cell_type": "markdown",
      "source": [
        "#Дообучение модели"
      ],
      "metadata": {
        "id": "gV9XNKYDd8Eu"
      }
    },
    {
      "cell_type": "code",
      "source": [
        "# Загрузка предобученной модели BERT и токенизатора\n",
        "model = 'bert-base-cased'\n",
        "tokenizer = BertTokenizer.from_pretrained(model)\n",
        "model = BertForSequenceClassification.from_pretrained(model, num_labels=2)  # 2 - количество классов тональности\n",
        "\n",
        "# Подготовка данных\n",
        "train_data = new_train\n",
        "train_labels = [data[0] for data in train_data]\n",
        "train_tokens = [data[1] for data in train_data]"
      ],
      "metadata": {
        "colab": {
          "base_uri": "https://localhost:8080/"
        },
        "id": "OXuwYV72Qani",
        "outputId": "8085e040-f1a1-4b3c-dc09-55115dbb20e8"
      },
      "execution_count": null,
      "outputs": [
        {
          "output_type": "stream",
          "name": "stderr",
          "text": [
            "Some weights of the model checkpoint at bert-base-cased were not used when initializing BertForSequenceClassification: ['cls.seq_relationship.bias', 'cls.predictions.transform.dense.bias', 'cls.predictions.transform.dense.weight', 'cls.predictions.transform.LayerNorm.bias', 'cls.seq_relationship.weight', 'cls.predictions.transform.LayerNorm.weight', 'cls.predictions.bias', 'cls.predictions.decoder.weight']\n",
            "- This IS expected if you are initializing BertForSequenceClassification from the checkpoint of a model trained on another task or with another architecture (e.g. initializing a BertForSequenceClassification model from a BertForPreTraining model).\n",
            "- This IS NOT expected if you are initializing BertForSequenceClassification from the checkpoint of a model that you expect to be exactly identical (initializing a BertForSequenceClassification model from a BertForSequenceClassification model).\n",
            "Some weights of BertForSequenceClassification were not initialized from the model checkpoint at bert-base-cased and are newly initialized: ['classifier.weight', 'classifier.bias']\n",
            "You should probably TRAIN this model on a down-stream task to be able to use it for predictions and inference.\n"
          ]
        }
      ]
    },
    {
      "cell_type": "code",
      "source": [
        "o9model"
      ],
      "metadata": {
        "colab": {
          "base_uri": "https://localhost:8080/"
        },
        "id": "T_kGtlYeQo9x",
        "outputId": "bfa58d8c-b079-47f5-ccee-26dfa2be3566"
      },
      "execution_count": null,
      "outputs": [
        {
          "output_type": "execute_result",
          "data": {
            "text/plain": [
              "BertForSequenceClassification(\n",
              "  (bert): BertModel(\n",
              "    (embeddings): BertEmbeddings(\n",
              "      (word_embeddings): Embedding(28996, 768, padding_idx=0)\n",
              "      (position_embeddings): Embedding(512, 768)\n",
              "      (token_type_embeddings): Embedding(2, 768)\n",
              "      (LayerNorm): LayerNorm((768,), eps=1e-12, elementwise_affine=True)\n",
              "      (dropout): Dropout(p=0.1, inplace=False)\n",
              "    )\n",
              "    (encoder): BertEncoder(\n",
              "      (layer): ModuleList(\n",
              "        (0-11): 12 x BertLayer(\n",
              "          (attention): BertAttention(\n",
              "            (self): BertSelfAttention(\n",
              "              (query): Linear(in_features=768, out_features=768, bias=True)\n",
              "              (key): Linear(in_features=768, out_features=768, bias=True)\n",
              "              (value): Linear(in_features=768, out_features=768, bias=True)\n",
              "              (dropout): Dropout(p=0.1, inplace=False)\n",
              "            )\n",
              "            (output): BertSelfOutput(\n",
              "              (dense): Linear(in_features=768, out_features=768, bias=True)\n",
              "              (LayerNorm): LayerNorm((768,), eps=1e-12, elementwise_affine=True)\n",
              "              (dropout): Dropout(p=0.1, inplace=False)\n",
              "            )\n",
              "          )\n",
              "          (intermediate): BertIntermediate(\n",
              "            (dense): Linear(in_features=768, out_features=3072, bias=True)\n",
              "            (intermediate_act_fn): GELUActivation()\n",
              "          )\n",
              "          (output): BertOutput(\n",
              "            (dense): Linear(in_features=3072, out_features=768, bias=True)\n",
              "            (LayerNorm): LayerNorm((768,), eps=1e-12, elementwise_affine=True)\n",
              "            (dropout): Dropout(p=0.1, inplace=False)\n",
              "          )\n",
              "        )\n",
              "      )\n",
              "    )\n",
              "    (pooler): BertPooler(\n",
              "      (dense): Linear(in_features=768, out_features=768, bias=True)\n",
              "      (activation): Tanh()\n",
              "    )\n",
              "  )\n",
              "  (dropout): Dropout(p=0.1, inplace=False)\n",
              "  (classifier): Linear(in_features=768, out_features=2, bias=True)\n",
              ")"
            ]
          },
          "metadata": {},
          "execution_count": 62
        }
      ]
    },
    {
      "cell_type": "code",
      "source": [
        "# Преобразование токенизированных данных в тензоры\n",
        "input_ids = [torch.tensor(tokenizer.build_inputs_with_special_tokens(tokens)) for tokens in train_tokens]\n",
        "input_ids = pad_sequence(input_ids, batch_first=True)\n",
        "attention_masks = torch.ones_like(input_ids)\n",
        "train_labels = torch.tensor(train_labels)"
      ],
      "metadata": {
        "id": "0edHO9GRQatf"
      },
      "execution_count": null,
      "outputs": []
    },
    {
      "cell_type": "code",
      "execution_count": null,
      "metadata": {
        "id": "Ea80_kyFlvJs"
      },
      "outputs": [],
      "source": [
        "# Создание DataLoader\n",
        "train_dataset = TensorDataset(input_ids, attention_masks, train_labels)\n",
        "train_loader = DataLoader(train_dataset, batch_size=16, shuffle=True)\n",
        "\n",
        "# Обучение модели\n",
        "device = torch.device('cuda') if torch.cuda.is_available() else torch.device('cpu')\n",
        "model.to(device)\n",
        "optimizer = torch.optim.AdamW(model.parameters(), lr=1e-5)\n",
        "\n",
        "for epoch in range(1):\n",
        "    model.train()\n",
        "    for batch in train_loader:\n",
        "        input_ids, attention_masks, labels = batch\n",
        "        input_ids = input_ids.to(device)\n",
        "        attention_masks = attention_masks.to(device)\n",
        "        labels = labels.to(device)\n",
        "\n",
        "        optimizer.zero_grad()\n",
        "        outputs = model(input_ids, attention_mask=attention_masks, labels=labels)\n",
        "        loss = outputs.loss\n",
        "        loss.backward()\n",
        "        optimizer.step()\n",
        "\n",
        "# Применение модели на новых данных\n",
        "test_data = new_test\n",
        "test_labels = [data[0] for data in test_data]\n",
        "test_tokens = [data[1] for data in test_data]\n",
        "\n",
        "input_ids = [torch.tensor(tokenizer.build_inputs_with_special_tokens(tokens)) for tokens in test_tokens]\n",
        "input_ids = pad_sequence(input_ids, batch_first=True)\n",
        "attention_masks = torch.ones_like(input_ids)\n",
        "test_labels = torch.tensor(test_labels)\n",
        "\n",
        "test_dataset = TensorDataset(input_ids, attention_masks, test_labels)\n",
        "test_loader = DataLoader(test_dataset, batch_size=16, shuffle=False)\n",
        "\n",
        "model.eval()\n",
        "predictions = []\n",
        "with torch.no_grad():\n",
        "    for batch in test_loader:\n",
        "        input_ids, attention_masks, labels = batch\n",
        "        input_ids = input_ids.to(device)\n",
        "        attention_masks = attention_masks.to(device)\n",
        "\n",
        "        outputs = model(input_ids, attention_mask=attention_masks)\n",
        "        logits = outputs.logits\n",
        "        probabilities = torch.softmax(logits, dim=1)\n",
        "        predicted_labels = torch.argmax(probabilities, dim=1)\n",
        "        predictions.extend(predicted_labels.tolist())\n",
        "\n",
        "\n"
      ]
    },
    {
      "cell_type": "markdown",
      "source": [
        "#Результаты"
      ],
      "metadata": {
        "id": "ZVfrMdAAeVur"
      }
    },
    {
      "cell_type": "code",
      "source": [
        "# Вывод результатов\n",
        "for data, prediction in zip(test, predictions):\n",
        "    label = data[0]\n",
        "    sentiment = 'Positive' if prediction == 1 else 'Negative'\n",
        "    print(f'Text: {data[1]}')  # Исправлено test_data[1] на data[1]\n",
        "    print(f'True Label: {label}')\n",
        "    print(f'Predicted Sentiment: {sentiment}')\n",
        "    print('-------------------')\n"
      ],
      "metadata": {
        "id": "jAhi1i_1eOyy"
      },
      "execution_count": null,
      "outputs": []
    },
    {
      "cell_type": "code",
      "source": [
        "from sklearn.metrics import accuracy_score, precision_score, recall_score, f1_score\n",
        "# Расчет метрик качества\n",
        "true_labels=test_labels\n",
        "accuracy = accuracy_score(true_labels, predictions)\n",
        "precision = precision_score(true_labels, predictions)\n",
        "recall = recall_score(true_labels, predictions)\n",
        "f1 = f1_score(true_labels, predictions)\n",
        "\n",
        "print(f'Accuracy: {accuracy}')\n",
        "print(f'Precision: {precision}')\n",
        "print(f'Recall: {recall}')\n",
        "print(f'F1 Score: {f1}')"
      ],
      "metadata": {
        "id": "bdIiI72pHcck"
      },
      "execution_count": null,
      "outputs": []
    },
    {
      "cell_type": "code",
      "source": [
        "import matplotlib.pyplot as plt\n",
        "\n",
        "# Вывод результатов\n",
        "true_labels = test_labels\n",
        "text_predictions = []\n",
        "for data, prediction in zip(test, predictions):\n",
        "    label = data[0]\n",
        "    sentiment = 'Positive' if prediction == 1 else 'Negative'\n",
        "    text_predictions.append(sentiment)\n",
        "    print(f'Text: {data[1]}')\n",
        "    print(f'True Label: {label}')\n",
        "    print(f'Predicted Sentiment: {sentiment}')\n",
        "    print('-------------------')\n",
        "\n",
        "# Расчет метрик качества\n",
        "accuracy = accuracy_score(true_labels, predictions)\n",
        "precision = precision_score(true_labels, predictions)\n",
        "recall = recall_score(true_labels, predictions)\n",
        "f1 = f1_score(true_labels, predictions)\n",
        "\n",
        "print(f'Accuracy: {accuracy}')\n",
        "print(f'Precision: {precision}')\n",
        "print(f'Recall: {recall}')\n",
        "print(f'F1 Score: {f1}')\n",
        "\n",
        "# Визуализация метрик\n",
        "metrics = {\n",
        "    'Accuracy': accuracy,\n",
        "    'Precision': precision,\n",
        "    'Recall': recall,\n",
        "    'F1 Score': f1\n",
        "}\n",
        "\n",
        "plt.bar(metrics.keys(), metrics.values())\n",
        "plt.title('Performance Metrics')\n",
        "plt.xlabel('Metric')\n",
        "plt.ylabel('Value')\n",
        "plt.show()"
      ],
      "metadata": {
        "id": "aYSzcH4ufIWG"
      },
      "execution_count": null,
      "outputs": []
    }
  ],
  "metadata": {
    "colab": {
      "provenance": [],
      "collapsed_sections": [
        "-DlJGLKTedPH",
        "qs2Grc1PKlpg",
        "oebYheuddlM3"
      ],
      "include_colab_link": true
    },
    "kernelspec": {
      "display_name": "Python 3",
      "language": "python",
      "name": "python3"
    },
    "language_info": {
      "codemirror_mode": {
        "name": "ipython",
        "version": 3
      },
      "file_extension": ".py",
      "mimetype": "text/x-python",
      "name": "python",
      "nbconvert_exporter": "python",
      "pygments_lexer": "ipython3",
      "version": "3.7.12"
    }
  },
  "nbformat": 4,
  "nbformat_minor": 0
}